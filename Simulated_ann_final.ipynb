{
  "nbformat": 4,
  "nbformat_minor": 0,
  "metadata": {
    "colab": {
      "provenance": []
    },
    "kernelspec": {
      "name": "python3",
      "display_name": "Python 3"
    },
    "language_info": {
      "name": "python"
    }
  },
  "cells": [
    {
      "cell_type": "markdown",
      "source": [
        "# Method 3(a): SVM using Simulated Annealing"
      ],
      "metadata": {
        "id": "jk44BLPBAVSn"
      }
    },
    {
      "cell_type": "code",
      "metadata": {
        "id": "dc8SRru-XORi",
        "colab": {
          "base_uri": "https://localhost:8080/"
        },
        "outputId": "0dab2e50-af7b-4438-f7a0-034d60dc1ec1"
      },
      "source": [
        "# install Kaggle\n",
        "! pip install kaggle"
      ],
      "execution_count": null,
      "outputs": [
        {
          "output_type": "stream",
          "name": "stdout",
          "text": [
            "Requirement already satisfied: kaggle in /usr/local/lib/python3.7/dist-packages (1.5.12)\n",
            "Requirement already satisfied: urllib3 in /usr/local/lib/python3.7/dist-packages (from kaggle) (1.24.3)\n",
            "Requirement already satisfied: six>=1.10 in /usr/local/lib/python3.7/dist-packages (from kaggle) (1.15.0)\n",
            "Requirement already satisfied: python-dateutil in /usr/local/lib/python3.7/dist-packages (from kaggle) (2.8.2)\n",
            "Requirement already satisfied: tqdm in /usr/local/lib/python3.7/dist-packages (from kaggle) (4.62.3)\n",
            "Requirement already satisfied: certifi in /usr/local/lib/python3.7/dist-packages (from kaggle) (2021.10.8)\n",
            "Requirement already satisfied: requests in /usr/local/lib/python3.7/dist-packages (from kaggle) (2.23.0)\n",
            "Requirement already satisfied: python-slugify in /usr/local/lib/python3.7/dist-packages (from kaggle) (5.0.2)\n",
            "Requirement already satisfied: text-unidecode>=1.3 in /usr/local/lib/python3.7/dist-packages (from python-slugify->kaggle) (1.3)\n",
            "Requirement already satisfied: chardet<4,>=3.0.2 in /usr/local/lib/python3.7/dist-packages (from requests->kaggle) (3.0.4)\n",
            "Requirement already satisfied: idna<3,>=2.5 in /usr/local/lib/python3.7/dist-packages (from requests->kaggle) (2.10)\n"
          ]
        }
      ]
    },
    {
      "cell_type": "code",
      "metadata": {
        "id": "Cz0jX5_VXnhD",
        "colab": {
          "base_uri": "https://localhost:8080/"
        },
        "outputId": "e80307b9-6014-44ad-c082-bc9e82a7e640"
      },
      "source": [
        "! mkdir ~/.kaggle\n",
        "!cp kaggle.json ~/.kaggle/"
      ],
      "execution_count": null,
      "outputs": [
        {
          "output_type": "stream",
          "name": "stdout",
          "text": [
            "mkdir: cannot create directory ‘/root/.kaggle’: File exists\n"
          ]
        }
      ]
    },
    {
      "cell_type": "code",
      "metadata": {
        "id": "QSRGU6FWXp5T"
      },
      "source": [
        "! chmod 600 ~/.kaggle/kaggle.json"
      ],
      "execution_count": null,
      "outputs": []
    },
    {
      "cell_type": "code",
      "metadata": {
        "colab": {
          "base_uri": "https://localhost:8080/"
        },
        "id": "eak9RFmtYEt_",
        "outputId": "6a41a7c3-8a60-4d4c-a0a8-332fea14db59"
      },
      "source": [
        "# download the dataset from Kaggle\n",
        "! kaggle datasets download pcbreviglieri/pneumonia-xray-images"
      ],
      "execution_count": null,
      "outputs": [
        {
          "output_type": "stream",
          "name": "stdout",
          "text": [
            "Downloading pneumonia-xray-images.zip to /content\n",
            " 99% 1.12G/1.14G [00:09<00:00, 113MB/s] \n",
            "100% 1.14G/1.14G [00:09<00:00, 130MB/s]\n"
          ]
        }
      ]
    },
    {
      "cell_type": "code",
      "source": [
        "! unzip pneumonia-xray-images\n",
        "clear_output()"
      ],
      "metadata": {
        "id": "Tt84-yBg5Fjl"
      },
      "execution_count": null,
      "outputs": []
    },
    {
      "cell_type": "code",
      "metadata": {
        "id": "3vhAMaIOBIee"
      },
      "source": [
        "# import required libraries\n",
        "import numpy as np\n",
        "import os\n",
        "import PIL\n",
        "import PIL.Image\n",
        "import tensorflow as tf\n",
        "import tensorflow_datasets as tfds\n",
        "from matplotlib import image\n",
        "from matplotlib import pyplot\n",
        "from os import listdir\n",
        "from numpy import save\n",
        "from tensorflow.keras.utils import load_img\n",
        "from tensorflow.keras.utils import img_to_array"
      ],
      "execution_count": null,
      "outputs": []
    },
    {
      "cell_type": "code",
      "metadata": {
        "colab": {
          "base_uri": "https://localhost:8080/"
        },
        "id": "x77hh_YouxhA",
        "outputId": "bc1444c5-0b5b-4de2-fe39-43134a71d615"
      },
      "source": [
        "# resize opacity images from training set\n",
        "\n",
        "folder = '/content/train/opacity'\n",
        "photos_op1 = list()\n",
        "\n",
        "n1 = 200\n",
        "n2 = 200\n",
        "\n",
        "# enumerate files in the directory\n",
        "for file in listdir(folder):\n",
        "    # load image\n",
        "    photo = load_img( '/content/train/opacity/'+ file, target_size=(n1, n2), color_mode='grayscale')\n",
        "    # convert to numpy array\n",
        "    photo = img_to_array(photo)\n",
        "    # store in the list of photos\n",
        "    photos_op1.append(photo)\n",
        "\n",
        "# convert list of photos and labels to numpy arrays\n",
        "photos_op = np.array(photos_op1[:1000])\n",
        "\n",
        "# label = -1 for opacity cases\n",
        "labels_op = np.array([-1.0]*1000)\n",
        "\n",
        "op_train = list()\n",
        "for i in range(1000):\n",
        "  op_train.append(photos_op[i].reshape(-1))\n",
        "op_train = np.array(op_train)\n",
        "op_train = op_train/255.0\n",
        "\n",
        "print(op_train.shape)"
      ],
      "execution_count": null,
      "outputs": [
        {
          "output_type": "stream",
          "name": "stdout",
          "text": [
            "(1000, 40000)\n"
          ]
        }
      ]
    },
    {
      "cell_type": "code",
      "metadata": {
        "colab": {
          "base_uri": "https://localhost:8080/"
        },
        "id": "x-nLNzLB_3rB",
        "outputId": "18cb887f-55f8-4e57-f499-21161d7f9b6d"
      },
      "source": [
        "# resize normal images from training set\n",
        "folder = '/content/train/normal'\n",
        "photos_no = list()\n",
        "\n",
        "# enumerate files in the directory\n",
        "for file in listdir(folder):\n",
        "    # load image\n",
        "    photo = load_img( '/content/train/normal/'+ file, target_size=(n1, n2), color_mode='grayscale')\n",
        "    # convert to numpy array\n",
        "    photo = img_to_array(photo)\n",
        "    # store in the list of photos\n",
        "    photos_no.append(photo)\n",
        "\n",
        "# convert list of photos and labels to numpy arrays\n",
        "photos_no = np.array(photos_no[:1000])\n",
        "\n",
        "# label = +1 for normal cases\n",
        "labels_no = np.array([1.0]*1000)\n",
        "\n",
        "no_train = list()\n",
        "for i in range(1000):\n",
        "  no_train.append(photos_no[i].reshape(-1))\n",
        "no_train = np.array(no_train)\n",
        "no_train = no_train/255.0\n",
        "\n",
        "print(no_train.shape)"
      ],
      "execution_count": null,
      "outputs": [
        {
          "output_type": "stream",
          "name": "stdout",
          "text": [
            "(1000, 40000)\n"
          ]
        }
      ]
    },
    {
      "cell_type": "code",
      "metadata": {
        "colab": {
          "base_uri": "https://localhost:8080/"
        },
        "id": "RutKMykR5gY5",
        "outputId": "a7057fce-808b-42ef-912c-a92061beeb50"
      },
      "source": [
        "# for normal case images in test data set\n",
        "folder = '/content/val/normal'\n",
        "photos_test_no = list()\n",
        "\n",
        "# enumerate files in the directory\n",
        "for file in listdir(folder):\n",
        "    # load image\n",
        "    photo = load_img( '/content/val/normal/'+ file, target_size=(n1, n2), color_mode='grayscale')\n",
        "    # convert to numpy array\n",
        "    photo = img_to_array(photo)\n",
        "    # store in the list of photos\n",
        "    photos_test_no.append(photo)\n",
        "\n",
        "# convert list of photos and labels to numpy arrays\n",
        "photos_test_no = np.array(photos_test_no)\n",
        "\n",
        "# label = +1 for normal cases\n",
        "labels_test_no = np.array([1.0]*photos_test_no.shape[0])\n",
        "\n",
        "no_test = list()\n",
        "for i in range(267):\n",
        "  no_test.append(photos_test_no[i].reshape(-1))\n",
        "no_test = np.array(no_test)\n",
        "no_test = no_test/255.0\n",
        "\n",
        "print(no_test.shape)"
      ],
      "execution_count": null,
      "outputs": [
        {
          "output_type": "stream",
          "name": "stdout",
          "text": [
            "(267, 40000)\n"
          ]
        }
      ]
    },
    {
      "cell_type": "code",
      "metadata": {
        "id": "qX7tKIG-1Si1",
        "colab": {
          "base_uri": "https://localhost:8080/"
        },
        "outputId": "5f4fef29-76c9-45b0-a2e0-714bdc176ef0"
      },
      "source": [
        "# for opacity case test data take extra images from train folder that are not used for training\n",
        "\n",
        "# convert list of photos and labels to numpy arrays\n",
        "photos_test_op = np.array(photos_op1[1000:2000])\n",
        "\n",
        "# label = -1 for normal cases\n",
        "labels_test_op = np.array([-1.0]*photos_test_op.shape[0])\n",
        "\n",
        "op_test = list()\n",
        "for i in range(1000):\n",
        "  op_test.append(photos_test_op[i].reshape(-1))\n",
        "op_test = np.array(op_test)\n",
        "op_test = op_test/255.0\n",
        "\n",
        "print(op_test.shape)"
      ],
      "execution_count": null,
      "outputs": [
        {
          "output_type": "stream",
          "name": "stdout",
          "text": [
            "(1000, 40000)\n"
          ]
        }
      ]
    },
    {
      "cell_type": "code",
      "metadata": {
        "colab": {
          "base_uri": "https://localhost:8080/"
        },
        "id": "FqURYRN-anMU",
        "outputId": "ec81cbaf-58de-4789-a844-2322faf4e397"
      },
      "source": [
        "# divide all images and labels in sets of 50 each\n",
        "train = np.empty((40, 50, 40000))\n",
        "lab = np.empty((40, 50))\n",
        "for i in range(40):\n",
        "    train[i] = np.append(op_train[25*i:25*(i+1)], no_train[25*i:25*(i+1)], axis = 0)\n",
        "    lab[i] = np.append(labels_op[25*i:25*(i+1)], labels_no[25*i:25*(i+1)])\n",
        "\n",
        "print(train.shape, lab.shape)"
      ],
      "execution_count": null,
      "outputs": [
        {
          "output_type": "stream",
          "name": "stdout",
          "text": [
            "(40, 50, 40000) (40, 50)\n"
          ]
        }
      ]
    },
    {
      "cell_type": "code",
      "metadata": {
        "id": "5VX-X4v77Lac"
      },
      "source": [
        "# define RBF kernel\n",
        "import math\n",
        "def Kernel(mat1, mat2, sigma):\n",
        "  norm=np.linalg.norm(mat1-mat2)\n",
        "  k = -(0.5*norm**2)/(sigma**2)\n",
        "  return np.exp(k)"
      ],
      "execution_count": null,
      "outputs": []
    },
    {
      "cell_type": "code",
      "metadata": {
        "id": "akFE0pSfAP2M"
      },
      "source": [
        "# evaluate kernel matrix for all image sets\n",
        "x=list() # x is the list of all 40 kernel matrices\n",
        "for k in range(40):\n",
        "  a = np.empty((50,50))\n",
        "  for i in range(50):\n",
        "    for j in range(50):\n",
        "      a[i][j]=Kernel(train[k][i],train[k][j],50)\n",
        "  x.append(a)"
      ],
      "execution_count": null,
      "outputs": []
    },
    {
      "cell_type": "code",
      "metadata": {
        "id": "CdU9ruy6bGOu"
      },
      "source": [
        "# Computing the QUBO matrix for each SVM\n",
        "\n",
        "I=np.identity(50)\n",
        "p=[1,2]\n",
        "pp=np.kron(I,p)\n",
        "\n",
        "Q=list() # Q is the list of 40 QUBO matrices\n",
        "for k in range(40):\n",
        " y = np.empty((50,50))\n",
        " for i in range(50):\n",
        "   for j in range(50):\n",
        "     y[i][j] = lab[k][i]*lab[k][j]\n",
        " xy=np.multiply(x[k],y)\n",
        " q=np.dot(pp.T,np.dot(xy,pp))*0.5\n",
        " q=q-np.diag(np.dot(pp.T,np.ones(50)))\n",
        " Q.append(q)"
      ],
      "execution_count": null,
      "outputs": []
    },
    {
      "cell_type": "code",
      "metadata": {
        "id": "C6_Wt-wbxMQK"
      },
      "source": [
        "!pip install dwave-ocean-sdk"
      ],
      "execution_count": null,
      "outputs": []
    },
    {
      "cell_type": "code",
      "metadata": {
        "id": "p_q8rsiCxFxz"
      },
      "source": [
        "# Import the Dwave packages dimod and neal\n",
        "import dimod\n",
        "import neal\n",
        "# Import Matplotlib to generate plots\n",
        "import matplotlib.pyplot as plt\n",
        "# Import numpy and scipy for certain numerical calculations below\n",
        "import numpy as np\n",
        "from scipy.special import gamma\n",
        "import math\n",
        "from collections import Counter\n",
        "import pandas as pd\n",
        "from itertools import chain\n",
        "import time\n",
        "import networkx as nx"
      ],
      "execution_count": null,
      "outputs": []
    },
    {
      "cell_type": "code",
      "metadata": {
        "id": "JXia-cQkFvqq",
        "colab": {
          "base_uri": "https://localhost:8080/"
        },
        "outputId": "9fb937c5-ec8a-484f-d877-34031de65fac"
      },
      "source": [
        "# perform annealing for 40 SVMs\n",
        "X=list()\n",
        "for i in range(40):\n",
        " model = dimod.BinaryQuadraticModel.from_qubo(Q[i])\n",
        " simAnnSampler = neal.SimulatedAnnealingSampler()\n",
        " simAnnSamples = simAnnSampler.sample(model, num_reads=1000)\n",
        " energies = simAnnSamples.data_vectors['energy']\n",
        " mit = min(energies)\n",
        " print(mit)\n",
        "\n",
        " # save the values of lagrange multipliers that give minimum energy\n",
        " for sample,energy, num_occ in simAnnSamples.data(['sample','energy','num_occurrences']):\n",
        "  if (energy==mit):\n",
        "       X.append(np.array(list(sample.values())))\n",
        "       break"
      ],
      "execution_count": null,
      "outputs": [
        {
          "output_type": "stream",
          "name": "stdout",
          "text": [
            "-48.582335896695234\n",
            "-51.249359517909966\n",
            "-52.7463342848813\n",
            "-41.53781051220205\n",
            "-51.39624957689726\n",
            "-50.35390545362901\n",
            "-46.129780567863335\n",
            "-49.30504350272377\n",
            "-51.670278269326296\n",
            "-43.9087314688096\n",
            "-52.29436522325883\n",
            "-62.31872046506761\n",
            "-51.593542276775615\n",
            "-53.84048409029058\n",
            "-55.17950219125588\n",
            "-48.728202246333815\n",
            "-51.49603306885369\n",
            "-58.22383714898323\n",
            "-48.82181459933813\n",
            "-60.08410459860645\n",
            "-49.902813999939966\n",
            "-57.35296895074884\n",
            "-53.95837855278793\n",
            "-51.93199226612727\n",
            "-43.51024787779842\n",
            "-52.474539708082844\n",
            "-53.21527981559495\n",
            "-59.978989105601414\n",
            "-47.9574655412306\n",
            "-61.632138234478276\n",
            "-53.71517758141279\n",
            "-58.512915119488724\n",
            "-50.67362139713838\n",
            "-49.651816688113925\n",
            "-58.31755706848397\n",
            "-48.64272272954454\n",
            "-48.06333820143813\n",
            "-45.591220025129324\n",
            "-54.0797065119819\n",
            "-52.977292941037106\n"
          ]
        }
      ]
    },
    {
      "cell_type": "code",
      "metadata": {
        "id": "WU_rScapYFnw"
      },
      "source": [
        "# convert values from binary to integers\n",
        "xa=list()\n",
        "for i in range(40):\n",
        "  xa.append(np.matmul(pp,X[i].T))"
      ],
      "execution_count": null,
      "outputs": []
    },
    {
      "cell_type": "code",
      "metadata": {
        "id": "JNTaqpFyKjkW"
      },
      "source": [
        "# calculate bias for each SVM and store values in a list\n",
        "bias=list()\n",
        "for i in range(40):\n",
        " b=0\n",
        " c=0\n",
        " for n in range(50):\n",
        "   a=0\n",
        "   for m in range(50):\n",
        "    a=a+xa[i][m]*lab[i][m]*x[i][m][n]\n",
        "   b=b+xa[i][n]*(3-xa[i][n])*(lab[i][n]-a)\n",
        "   c=c+xa[i][n]*(3-xa[i][n])\n",
        " b = b/c\n",
        " bias.append(b)"
      ],
      "execution_count": null,
      "outputs": []
    },
    {
      "cell_type": "code",
      "metadata": {
        "id": "TxXUVsPP2Azi"
      },
      "source": [
        "# testing the model on opacity images from test data\n",
        "yy=list()\n",
        "for i in range(1000):\n",
        "  a=0.00\n",
        "  tes=list()\n",
        "  for j in range(40):\n",
        "   for k in range(50):\n",
        "    a=a+xa[j][k]*lab[j][k]*Kernel(op_test[i],train[j][k],50)\n",
        "   a=a+bias[j]\n",
        "   if a<0:\n",
        "    tes.append(-1)\n",
        "   else:\n",
        "    tes.append(1)\n",
        "  yy.append(max(set(tes), key=tes.count))"
      ],
      "execution_count": null,
      "outputs": []
    },
    {
      "cell_type": "code",
      "metadata": {
        "colab": {
          "base_uri": "https://localhost:8080/"
        },
        "outputId": "ac7351b0-29cd-4ca7-d1b3-86af8821df61",
        "id": "bz1CHVU1CYOr"
      },
      "source": [
        "count = 0\n",
        "for i in range(1000):\n",
        "  if yy[i]==-1:\n",
        "    count = count + 1\n",
        "print(count)"
      ],
      "execution_count": null,
      "outputs": [
        {
          "output_type": "stream",
          "name": "stdout",
          "text": [
            "927\n"
          ]
        }
      ]
    },
    {
      "cell_type": "code",
      "metadata": {
        "id": "xwSf0FamC9Mi"
      },
      "source": [
        "# testing the model on normal images from test data\n",
        "yy=list()\n",
        "for i in range(267):\n",
        "  a=0.00\n",
        "  tes=list()\n",
        "  for j in range(40):\n",
        "   for k in range(50):\n",
        "    a=a+xa[j][k]*lab[j][k]*Kernel(no_test[i],train[j][k],50)\n",
        "   a=a+bias[j]\n",
        "   if a<0:\n",
        "    tes.append(-1)\n",
        "   else:\n",
        "    tes.append(1)\n",
        "  yy.append(max(set(tes), key=tes.count))"
      ],
      "execution_count": null,
      "outputs": []
    },
    {
      "cell_type": "code",
      "metadata": {
        "colab": {
          "base_uri": "https://localhost:8080/"
        },
        "outputId": "89d78cf9-9719-4c48-e4e4-a1ac17b1de8b",
        "id": "LTZkro3UDIV9"
      },
      "source": [
        "count = 0\n",
        "for i in range(267):\n",
        "  if yy[i]==1:\n",
        "    count = count + 1\n",
        "print(count)"
      ],
      "execution_count": null,
      "outputs": [
        {
          "output_type": "stream",
          "name": "stdout",
          "text": [
            "245\n"
          ]
        }
      ]
    },
    {
      "cell_type": "markdown",
      "source": [
        "Thus, the model has labelled 927 out of 1000 opacity images and 245 out of 267 normal images correctly. The results can be expressed in a confusion matrix as follows:\n",
        "\n",
        "|  | Actual +ve | Actual -ve |\n",
        "| --- | --- | --- |\n",
        "| **Predicted +ve** | 927 | 22 |\n",
        "| **Predicted -ve** | 73 | 245 |\n",
        "\n",
        "Here, positive is opacity and negative is normal."
      ],
      "metadata": {
        "id": "PNaeumT-DPJN"
      }
    }
  ]
}