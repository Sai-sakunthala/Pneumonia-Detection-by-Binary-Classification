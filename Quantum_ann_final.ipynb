{
  "cells": [
    {
      "cell_type": "markdown",
      "metadata": {
        "id": "klZ5bPm5mUDl"
      },
      "source": [
        "# Method 3(b): SVM using DWave Quantum Annealer\n",
        "\n"
      ]
    },
    {
      "cell_type": "code",
      "execution_count": null,
      "metadata": {
        "colab": {
          "base_uri": "https://localhost:8080/"
        },
        "id": "dc8SRru-XORi",
        "outputId": "72bd75c2-1e71-48df-c55f-b36859c7660f"
      },
      "outputs": [
        {
          "output_type": "stream",
          "name": "stdout",
          "text": [
            "Requirement already satisfied: kaggle in /usr/local/lib/python3.10/dist-packages (1.5.16)\n",
            "Requirement already satisfied: six>=1.10 in /usr/local/lib/python3.10/dist-packages (from kaggle) (1.16.0)\n",
            "Requirement already satisfied: certifi in /usr/local/lib/python3.10/dist-packages (from kaggle) (2023.7.22)\n",
            "Requirement already satisfied: python-dateutil in /usr/local/lib/python3.10/dist-packages (from kaggle) (2.8.2)\n",
            "Requirement already satisfied: requests in /usr/local/lib/python3.10/dist-packages (from kaggle) (2.31.0)\n",
            "Requirement already satisfied: tqdm in /usr/local/lib/python3.10/dist-packages (from kaggle) (4.66.1)\n",
            "Requirement already satisfied: python-slugify in /usr/local/lib/python3.10/dist-packages (from kaggle) (8.0.1)\n",
            "Requirement already satisfied: urllib3 in /usr/local/lib/python3.10/dist-packages (from kaggle) (2.0.4)\n",
            "Requirement already satisfied: bleach in /usr/local/lib/python3.10/dist-packages (from kaggle) (6.0.0)\n",
            "Requirement already satisfied: webencodings in /usr/local/lib/python3.10/dist-packages (from bleach->kaggle) (0.5.1)\n",
            "Requirement already satisfied: text-unidecode>=1.3 in /usr/local/lib/python3.10/dist-packages (from python-slugify->kaggle) (1.3)\n",
            "Requirement already satisfied: charset-normalizer<4,>=2 in /usr/local/lib/python3.10/dist-packages (from requests->kaggle) (3.2.0)\n",
            "Requirement already satisfied: idna<4,>=2.5 in /usr/local/lib/python3.10/dist-packages (from requests->kaggle) (3.4)\n"
          ]
        }
      ],
      "source": [
        "# install kaggle\n",
        "! pip install kaggle"
      ]
    },
    {
      "cell_type": "code",
      "execution_count": null,
      "metadata": {
        "id": "Cz0jX5_VXnhD"
      },
      "outputs": [],
      "source": [
        "! mkdir ~/.kaggle\n",
        "!cp kaggle.json ~/.kaggle/"
      ]
    },
    {
      "cell_type": "code",
      "execution_count": null,
      "metadata": {
        "id": "QSRGU6FWXp5T"
      },
      "outputs": [],
      "source": [
        "! chmod 600 ~/.kaggle/kaggle.json"
      ]
    },
    {
      "cell_type": "code",
      "execution_count": null,
      "metadata": {
        "colab": {
          "base_uri": "https://localhost:8080/"
        },
        "id": "eak9RFmtYEt_",
        "outputId": "974b8db9-df5f-4b0f-d9c5-598e212771f6"
      },
      "outputs": [
        {
          "output_type": "stream",
          "name": "stdout",
          "text": [
            "Downloading pneumonia-xray-images.zip to /content\n",
            " 99% 1.13G/1.14G [00:12<00:00, 114MB/s] \n",
            "100% 1.14G/1.14G [00:12<00:00, 99.2MB/s]\n"
          ]
        }
      ],
      "source": [
        "# download data set from Kaggle\n",
        "! kaggle datasets download pcbreviglieri/pneumonia-xray-images"
      ]
    },
    {
      "cell_type": "code",
      "execution_count": null,
      "metadata": {
        "id": "jWtkQaMOYoyA"
      },
      "outputs": [],
      "source": [
        "! unzip pneumonia-xray-images\n",
        "\n",
        "from IPython.display import clear_output\n",
        "clear_output()"
      ]
    },
    {
      "cell_type": "code",
      "execution_count": null,
      "metadata": {
        "id": "3vhAMaIOBIee"
      },
      "outputs": [],
      "source": [
        "# import required libraries\n",
        "import numpy as np\n",
        "import os\n",
        "import PIL\n",
        "import PIL.Image\n",
        "import tensorflow as tf\n",
        "import tensorflow_datasets as tfds\n",
        "from matplotlib import image\n",
        "from matplotlib import pyplot\n",
        "from os import listdir\n",
        "from numpy import save\n",
        "from tensorflow.keras.utils import load_img\n",
        "from tensorflow.keras.utils import img_to_array"
      ]
    },
    {
      "cell_type": "code",
      "execution_count": null,
      "metadata": {
        "colab": {
          "base_uri": "https://localhost:8080/"
        },
        "id": "x77hh_YouxhA",
        "outputId": "d03ff307-c8a1-4d28-990d-880cbf10bcf7"
      },
      "outputs": [
        {
          "output_type": "stream",
          "name": "stdout",
          "text": [
            "(1000, 40000)\n"
          ]
        }
      ],
      "source": [
        "# resize opacity images from training set\n",
        "\n",
        "folder = '/content/train/opacity'\n",
        "photos_op1 = list()\n",
        "\n",
        "n1 = 200\n",
        "n2 = 200\n",
        "\n",
        "# enumerate files in the directory\n",
        "for file in listdir(folder):\n",
        "    # load image\n",
        "    photo = load_img( '/content/train/opacity/'+ file, target_size=(n1, n2), color_mode='grayscale')\n",
        "    # convert to numpy array\n",
        "    photo = img_to_array(photo)\n",
        "    # store in the list of photos\n",
        "    photos_op1.append(photo)\n",
        "\n",
        "# convert list of photos and labels to numpy arrays\n",
        "photos_op = np.array(photos_op1[:1000])\n",
        "\n",
        "# label = -1 for opacity cases\n",
        "labels_op = np.array([-1.0]*1000)\n",
        "\n",
        "op_train = list()\n",
        "for i in range(1000):\n",
        "  op_train.append(photos_op[i].reshape(-1))\n",
        "op_train = np.array(op_train)\n",
        "op_train = op_train/255.0\n",
        "\n",
        "print(op_train.shape)"
      ]
    },
    {
      "cell_type": "code",
      "execution_count": null,
      "metadata": {
        "colab": {
          "base_uri": "https://localhost:8080/"
        },
        "id": "-tOesDvXnyvj",
        "outputId": "d80b5655-e001-4f71-9de5-f2cd40ca062b"
      },
      "outputs": [
        {
          "output_type": "stream",
          "name": "stdout",
          "text": [
            "(1000, 40000)\n"
          ]
        }
      ],
      "source": [
        "# resize normal images from training set\n",
        "folder = '/content/train/normal'\n",
        "photos_no = list()\n",
        "\n",
        "# enumerate files in the directory\n",
        "for file in listdir(folder):\n",
        "    # load image\n",
        "    photo = load_img( '/content/train/normal/'+ file, target_size=(n1, n2), color_mode='grayscale')\n",
        "    # convert to numpy array\n",
        "    photo = img_to_array(photo)\n",
        "    # store in the list of photos\n",
        "    photos_no.append(photo)\n",
        "\n",
        "# convert list of photos and labels to numpy arrays\n",
        "photos_no = np.array(photos_no[:1000])\n",
        "\n",
        "# label = +1 for normal cases\n",
        "labels_no = np.array([1.0]*1000)\n",
        "\n",
        "no_train = list()\n",
        "for i in range(1000):\n",
        "  no_train.append(photos_no[i].reshape(-1))\n",
        "no_train = np.array(no_train)\n",
        "no_train = no_train/255.0\n",
        "\n",
        "print(no_train.shape)"
      ]
    },
    {
      "cell_type": "code",
      "execution_count": null,
      "metadata": {
        "colab": {
          "base_uri": "https://localhost:8080/"
        },
        "id": "x-nLNzLB_3rB",
        "outputId": "29e85d0c-db38-4187-bd34-60b119278c24"
      },
      "outputs": [
        {
          "output_type": "stream",
          "name": "stdout",
          "text": [
            "(267, 40000)\n"
          ]
        }
      ],
      "source": [
        "# for normal case images in test data set\n",
        "folder = '/content/val/normal'\n",
        "photos_test_no = list()\n",
        "\n",
        "# enumerate files in the directory\n",
        "for file in listdir(folder):\n",
        "    # load image\n",
        "    photo = load_img( '/content/val/normal/'+ file, target_size=(n1, n2), color_mode='grayscale')\n",
        "    # convert to numpy array\n",
        "    photo = img_to_array(photo)\n",
        "    # store in the list of photos\n",
        "    photos_test_no.append(photo)\n",
        "\n",
        "# convert list of photos and labels to numpy arrays\n",
        "photos_test_no = np.array(photos_test_no)\n",
        "\n",
        "# label = +1 for normal cases\n",
        "labels_test_no = np.array([1.0]*photos_test_no.shape[0])\n",
        "\n",
        "no_test = list()\n",
        "for i in range(267):\n",
        "  no_test.append(photos_test_no[i].reshape(-1))\n",
        "no_test = np.array(no_test)\n",
        "no_test = no_test/255.0\n",
        "\n",
        "print(no_test.shape)"
      ]
    },
    {
      "cell_type": "code",
      "execution_count": null,
      "metadata": {
        "colab": {
          "base_uri": "https://localhost:8080/"
        },
        "id": "RutKMykR5gY5",
        "outputId": "fa76487a-1369-4338-93cf-01cbdc820370"
      },
      "outputs": [
        {
          "output_type": "stream",
          "name": "stdout",
          "text": [
            "(1000, 40000)\n"
          ]
        }
      ],
      "source": [
        "# for opacity case test data take extra images from train folder that are not used for training\n",
        "\n",
        "# convert list of photos and labels to numpy arrays\n",
        "photos_test_op = np.array(photos_op1[1000:2000])\n",
        "\n",
        "# label = -1 for normal cases\n",
        "labels_test_op = np.array([-1.0]*photos_test_op.shape[0])\n",
        "\n",
        "op_test = list()\n",
        "for i in range(1000):\n",
        "  op_test.append(photos_test_op[i].reshape(-1))\n",
        "op_test = np.array(op_test)\n",
        "op_test = op_test/255.0\n",
        "\n",
        "print(op_test.shape)"
      ]
    },
    {
      "cell_type": "code",
      "execution_count": null,
      "metadata": {
        "colab": {
          "base_uri": "https://localhost:8080/"
        },
        "id": "_hP_QRZQoVY7",
        "outputId": "df87e2f1-efe9-4c4a-d755-835b2885cc09"
      },
      "outputs": [
        {
          "output_type": "stream",
          "name": "stdout",
          "text": [
            "(40, 50, 40000) (40, 50)\n"
          ]
        }
      ],
      "source": [
        "# divide all images and labels in sets of 50 each\n",
        "train = np.empty((40, 50, 40000))\n",
        "lab = np.empty((40, 50))\n",
        "for i in range(40):\n",
        "    train[i] = np.append(op_train[25*i:25*(i+1)], no_train[25*i:25*(i+1)], axis = 0)\n",
        "    lab[i] = np.append(labels_op[25*i:25*(i+1)], labels_no[25*i:25*(i+1)])\n",
        "\n",
        "print(train.shape, lab.shape)"
      ]
    },
    {
      "cell_type": "code",
      "execution_count": null,
      "metadata": {
        "id": "5VX-X4v77Lac"
      },
      "outputs": [],
      "source": [
        "# define RBF kernel\n",
        "import math\n",
        "def Kernel(mat1, mat2, sigma):\n",
        "  norm=np.linalg.norm(mat1-mat2)\n",
        "  k = -(0.5*norm**2)/(sigma**2)\n",
        "  return np.exp(k)"
      ]
    },
    {
      "cell_type": "code",
      "execution_count": null,
      "metadata": {
        "id": "akFE0pSfAP2M"
      },
      "outputs": [],
      "source": [
        "# evaluate kernel matrix for all image sets\n",
        "x=list() # x is the list of all 40 kernel matrices\n",
        "for k in range(40):\n",
        "  a = np.empty((50,50))\n",
        "  for i in range(50):\n",
        "    for j in range(50):\n",
        "      a[i][j]=Kernel(train[k][i],train[k][j],50)\n",
        "  x.append(a)"
      ]
    },
    {
      "cell_type": "code",
      "execution_count": null,
      "metadata": {
        "id": "CdU9ruy6bGOu"
      },
      "outputs": [],
      "source": [
        "# Computing the QUBO matrix for each SVM\n",
        "\n",
        "I=np.identity(50)\n",
        "p=[1,2]\n",
        "pp=np.kron(I,p)\n",
        "\n",
        "Q=list() # Q is the list of 40 QUBO matrices\n",
        "for k in range(40):\n",
        " y = np.empty((50,50))\n",
        " for i in range(50):\n",
        "   for j in range(50):\n",
        "     y[i][j] = lab[k][i]*lab[k][j]\n",
        " xy=np.multiply(x[k],y)\n",
        " q=np.dot(pp.T,np.dot(xy,pp))*0.5\n",
        " q=q-np.diag(np.dot(pp.T,np.ones(50)))\n",
        " Q.append(q)"
      ]
    },
    {
      "cell_type": "code",
      "source": [
        "!pip install dwave-ocean-sdk"
      ],
      "metadata": {
        "id": "Toh2gtc_fCcc"
      },
      "execution_count": null,
      "outputs": []
    },
    {
      "cell_type": "code",
      "execution_count": null,
      "metadata": {
        "id": "p_q8rsiCxFxz"
      },
      "outputs": [],
      "source": [
        "# Import the Dwave packages dimod and neal\n",
        "import dimod\n",
        "import neal\n",
        "# Import Matplotlib to generate plots\n",
        "import matplotlib.pyplot as plt\n",
        "# Import numpy and scipy for certain numerical calculations below\n",
        "from scipy.special import gamma\n",
        "import math\n",
        "from collections import Counter\n",
        "import pandas as pd\n",
        "from itertools import chain\n",
        "import time\n",
        "import networkx as nx"
      ]
    },
    {
      "cell_type": "code",
      "source": [
        "#setup dwave using api token\n",
        "!dwave setup\n",
        "!dwave ping"
      ],
      "metadata": {
        "id": "hGXCZy4bfO_F"
      },
      "execution_count": null,
      "outputs": []
    },
    {
      "cell_type": "code",
      "execution_count": null,
      "metadata": {
        "id": "-xbvn9l7y0p5"
      },
      "outputs": [],
      "source": [
        "import dwave_networkx as dnx\n",
        "from dwave.system import (DWaveSampler, EmbeddingComposite,\n",
        "                          FixedEmbeddingComposite)\n",
        "from pprint import pprint"
      ]
    },
    {
      "cell_type": "code",
      "execution_count": null,
      "metadata": {
        "colab": {
          "base_uri": "https://localhost:8080/"
        },
        "id": "JXia-cQkFvqq",
        "outputId": "86e340f8-ef5b-4b16-9d50-e07d8975696d"
      },
      "outputs": [
        {
          "output_type": "stream",
          "name": "stdout",
          "text": [
            "-19.675827934516107\n",
            "-33.981442202561574\n",
            "-19.752734752302388\n",
            "-21.065911149538596\n",
            "-19.062788332283063\n",
            "-27.96645771534544\n",
            "-30.960153597537243\n",
            "-45.8520778548065\n",
            "-24.610671709311806\n",
            "-12.010460700404165\n",
            "-36.35772815903848\n",
            "-25.269497604147027\n",
            "-23.982537106715583\n",
            "-31.79445617326104\n",
            "-28.898921031214496\n",
            "-24.39099139564694\n",
            "-28.234232724453015\n",
            "-22.91973451300911\n",
            "-22.076027646214555\n",
            "-32.66995950996122\n",
            "-37.4940805858032\n",
            "-34.76541167891242\n",
            "-4.854534228634453\n",
            "-45.81842783217654\n",
            "-28.33092995118283\n",
            "-28.65673820964405\n",
            "-29.28289521103744\n",
            "-33.0241941537798\n",
            "-26.830834750905968\n",
            "-20.384645310356788\n",
            "-18.684637859122773\n",
            "-32.71185638273567\n",
            "-21.195767838043093\n",
            "-33.35246548904198\n",
            "-36.42247257300272\n",
            "-27.949573677000018\n",
            "-28.127906009437847\n",
            "-33.04069921076666\n",
            "-38.95860520486609\n",
            "-34.23933963474774\n"
          ]
        }
      ],
      "source": [
        "# perform annealing for 40 SVMs\n",
        "X=list()\n",
        "for i in range(40):\n",
        " model = dimod.BinaryQuadraticModel.from_qubo(Q[i])\n",
        " DWavesampler = EmbeddingComposite(DWaveSampler(solver='Advantage_system6.2'))\n",
        " DWaveSamples = DWavesampler.sample(bqm=model, num_reads=500,\n",
        "                                   return_embedding=True\n",
        "                                   )\n",
        " energies = DWaveSamples.data_vectors['energy']\n",
        " mit = min(energies)\n",
        " print(mit)\n",
        " # save the values of lagrange multipliers that give minimum energy\n",
        " for sample,energy, num_occ in DWaveSamples.data(['sample','energy','num_occurrences']):\n",
        "  if (energy==mit):\n",
        "       X.append(np.array(list(sample.values())))\n",
        "       break"
      ]
    },
    {
      "cell_type": "code",
      "execution_count": null,
      "metadata": {
        "id": "WU_rScapYFnw"
      },
      "outputs": [],
      "source": [
        "# convert values from binary to integers\n",
        "xa=list()\n",
        "for i in range(40):\n",
        "  xa.append(np.matmul(pp,X[i].T))"
      ]
    },
    {
      "cell_type": "code",
      "execution_count": 53,
      "metadata": {
        "id": "JNTaqpFyKjkW"
      },
      "outputs": [],
      "source": [
        "# calculate bias for each SVM and store values in a list\n",
        "bias=list()\n",
        "for i in range(40):\n",
        " b=0\n",
        " c=0\n",
        " for n in range(50):\n",
        "   a=0\n",
        "   for m in range(50):\n",
        "    a=a+xa[i][m]*lab[i][m]*x[i][m][n]\n",
        "   b=b+xa[i][n]*(3-xa[i][n])*(lab[i][n]-a)\n",
        "   c=c+xa[i][n]*(3-xa[i][n])\n",
        " b = b/c\n",
        " bias.append(b)"
      ]
    },
    {
      "cell_type": "code",
      "execution_count": null,
      "metadata": {
        "id": "TxXUVsPP2Azi"
      },
      "outputs": [],
      "source": [
        "# testing the model on normal images from test data\n",
        "yy=list()\n",
        "for i in range(267):\n",
        "  a=0.00\n",
        "  tes=list()\n",
        "  for j in range(40):\n",
        "   for k in range(50):\n",
        "    a=a+xa[j][k]*lab[j][k]*Kernel(no_test[i],train[j][k],50)\n",
        "   a=a+bias[j]\n",
        "   if a<0:\n",
        "    tes.append(-1)\n",
        "   else:\n",
        "    tes.append(1)\n",
        "  yy.append(max(set(tes), key=tes.count))"
      ]
    },
    {
      "cell_type": "code",
      "execution_count": null,
      "metadata": {
        "colab": {
          "base_uri": "https://localhost:8080/"
        },
        "id": "_RhO0I3rJm1C",
        "outputId": "da4a0039-efa9-4061-db67-dad32d51a7c4"
      },
      "outputs": [
        {
          "output_type": "stream",
          "name": "stdout",
          "text": [
            "221\n"
          ]
        }
      ],
      "source": [
        "count = 0\n",
        "for i in range(267):\n",
        "  if yy[i]==1:\n",
        "    count = count + 1\n",
        "print(count)"
      ]
    },
    {
      "cell_type": "code",
      "execution_count": null,
      "metadata": {
        "id": "Gf9C4yQkKDE1"
      },
      "outputs": [],
      "source": [
        "# testing the model on opacity images from test data\n",
        "yy=list()\n",
        "for i in range(1000):\n",
        "  a=0.00\n",
        "  tes=list()\n",
        "  for j in range(40):\n",
        "   for k in range(50):\n",
        "    a=a+xa[j][k]*lab[j][k]*Kernel(op_test[i],train[j][k],50)\n",
        "   a=a+bias[j]\n",
        "   if a<0:\n",
        "    tes.append(-1)\n",
        "   else:\n",
        "    tes.append(1)\n",
        "  yy.append(max(set(tes), key=tes.count))"
      ]
    },
    {
      "cell_type": "code",
      "source": [
        "count = 0\n",
        "for i in range(1000):\n",
        "  if yy[i]==-1:\n",
        "    count = count + 1\n",
        "print(count)"
      ],
      "metadata": {
        "colab": {
          "base_uri": "https://localhost:8080/"
        },
        "id": "BhKH8chWzeyv",
        "outputId": "6d833e12-5b36-4362-debc-ca9aabab5adc"
      },
      "execution_count": null,
      "outputs": [
        {
          "output_type": "stream",
          "name": "stdout",
          "text": [
            "924\n"
          ]
        }
      ]
    },
    {
      "cell_type": "markdown",
      "metadata": {
        "id": "Dae9gLZ1sBKh"
      },
      "source": [
        "Thus, the model has labelled 924 out of 1000 opacity images and 221 out of 267 normal images correctly. The results can be expressed in a confusion matrix as follows:\n",
        "\n",
        "|  | Actual +ve | Actual -ve |\n",
        "| --- | --- | --- |\n",
        "| **Predicted +ve** | 924 | 46 |\n",
        "| **Predicted -ve** | 76 | 221 |\n",
        "\n",
        "Here, positive is opacity and negative is normal."
      ]
    }
  ],
  "metadata": {
    "colab": {
      "provenance": []
    },
    "kernelspec": {
      "display_name": "Python 3",
      "name": "python3"
    },
    "language_info": {
      "name": "python"
    }
  },
  "nbformat": 4,
  "nbformat_minor": 0
}
